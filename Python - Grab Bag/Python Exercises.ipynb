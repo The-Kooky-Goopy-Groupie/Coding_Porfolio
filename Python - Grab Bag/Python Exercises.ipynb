{
 "cells": [
  {
   "cell_type": "code",
   "execution_count": 1,
   "metadata": {},
   "outputs": [
    {
     "name": "stdout",
     "output_type": "stream",
     "text": [
      "dave dave added to records with the email 'dave.dave20@company.com'\n"
     ]
    }
   ],
   "source": [
    "import datetime\n",
    "def add_new_employee():\n",
    "  first = input(\"First name: \")\n",
    "  last = input(\"Last name: \")\n",
    "  age = int(input(\"Age: \"))\n",
    "  email = f\"{first}.{last}{str(datetime.date.today().year - age)[-2:]}@company.com\"\n",
    "  print(f\"{first} {last} added to records with the email '{email}'\")\n",
    "add_new_employee()"
   ]
  },
  {
   "cell_type": "code",
   "execution_count": 19,
   "metadata": {},
   "outputs": [
    {
     "name": "stdout",
     "output_type": "stream",
     "text": [
      "1\n",
      "we are added to records with the email 'we.are01@company.com'\n"
     ]
    }
   ],
   "source": [
    "# YO IT SORTA WORKS MAYBE I\"M NOT AN IDIOT!\n",
    "import datetime\n",
    "def add_new_employee():\n",
    "  # Code needed for the exception of the int of people \n",
    "  num_people = 0 #Intialize the variable to be the total people\n",
    "  num_people_Count = 0 # count variable \n",
    "  try:\n",
    "      num_people = int (input(\"Enter Number of People: \")) #force the input to be an int\n",
    "      print(num_people) #check we got correct number \n",
    "  except Exception:\n",
    "      print(\"Must Be a Int Based Number\") # Exception Message \n",
    "      add_new_employee() # Re-Run the code so it can try again\n",
    "\n",
    "\n",
    "# Now we need to do the loop of the equation which we did not do correctly it seems to go endlessly \n",
    "  try: \n",
    "    while num_people_Count < num_people:\n",
    "      first = input(\"First name: \") #get first\n",
    "      last = input(\"Last name: \") #get last Name\n",
    "      age = int(input(\"Age: \")) # Get age\n",
    "      email = f\"{first}.{last}{str(datetime.date.today().year - age)[-2:]}@company.com\" #Make email\n",
    "      print(f\"{first} {last} added to records with the email '{email}'\") # print out the email.\n",
    "      num_people_Count = num_people_Count + 1 #itteration\n",
    "  except Exception:\n",
    "    print(\"You encountered an error\")\n",
    "add_new_employee()"
   ]
  },
  {
   "attachments": {},
   "cell_type": "markdown",
   "metadata": {},
   "source": [
    "\n",
    "Okay so what we would need to do is add in an area that handles errors for the int and defining of a new employee equal to an int value"
   ]
  },
  {
   "cell_type": "code",
   "execution_count": 1,
   "metadata": {},
   "outputs": [
    {
     "name": "stdout",
     "output_type": "stream",
     "text": [
      "2\n",
      "this is added to records with the email 'this.is01@company.com'\n",
      "SPARTA BRAWWWWWWWWWWGGGGGGGGGHHHHHH added to records with the email 'SPARTA.BRAWWWWWWWWWWGGGGGGGGGHHHHHH23@company.com'\n"
     ]
    }
   ],
   "source": [
    "# This version of the code outputs it to a text file in order to store the data\n",
    "\n",
    "import datetime\n",
    "def add_new_employee():\n",
    "  # Code needed for the exception of the int of people \n",
    "  num_people = 0 #Intialize the variable to be the total people\n",
    "  num_people_Count = 0 # count variable \n",
    "  try:\n",
    "      num_people = int (input(\"Enter Number of People: \")) #force the input to be an int\n",
    "      print(num_people) #check we got correct number \n",
    "  except Exception:\n",
    "      print(\"Must Be a Int Based Number\") # Exception Message \n",
    "      add_new_employee() # Re-Run the code so it can try again\n",
    "\n",
    "  new_file = open(\"newfile.txt\",\"a\") # make new text file\n",
    "\n",
    "# Now we need to do the loop of the equation which we did not do correctly it seems to go endlessly \n",
    "  try: \n",
    "    while num_people_Count < num_people:\n",
    "      first = input(\"First name: \") #get first\n",
    "      last = input(\"Last name: \") #get last Name\n",
    "      age = int(input(\"Age: \")) # Get age\n",
    "      email = f\"{first}.{last}{str(datetime.date.today().year - age)[-2:]}@company.com\" #Make email\n",
    "      print(f\"{first} {last} added to records with the email '{email}'\") # print out the email.\n",
    "      new_file.write(f\"{first} {last} added to records with the email '{email}'\\n\") # add this info to the new file\n",
    "      num_people_Count = num_people_Count + 1 #continue on with the counter \n",
    "  except False:\n",
    "    print(\"You encountered an error\")\n",
    "add_new_employee()"
   ]
  },
  {
   "cell_type": "code",
   "execution_count": 2,
   "metadata": {},
   "outputs": [
    {
     "name": "stdout",
     "output_type": "stream",
     "text": [
      "This is no int, it's a con!\n"
     ]
    },
    {
     "ename": "UnboundLocalError",
     "evalue": "local variable 'Num_in' referenced before assignment",
     "output_type": "error",
     "traceback": [
      "\u001b[1;31m---------------------------------------------------------------------------\u001b[0m",
      "\u001b[1;31mUnboundLocalError\u001b[0m                         Traceback (most recent call last)",
      "Cell \u001b[1;32mIn[2], line 5\u001b[0m\n\u001b[0;32m      3\u001b[0m \u001b[39mdef\u001b[39;00m \u001b[39mmain\u001b[39m():        \u001b[39m# Define a main function\u001b[39;00m\n\u001b[0;32m      4\u001b[0m     MD\u001b[39m.\u001b[39mCheck_int() \u001b[39m# run the int check\u001b[39;00m\n\u001b[1;32m----> 5\u001b[0m main()        \n",
      "Cell \u001b[1;32mIn[2], line 4\u001b[0m, in \u001b[0;36mmain\u001b[1;34m()\u001b[0m\n\u001b[0;32m      3\u001b[0m \u001b[39mdef\u001b[39;00m \u001b[39mmain\u001b[39m():        \u001b[39m# Define a main function\u001b[39;00m\n\u001b[1;32m----> 4\u001b[0m     MD\u001b[39m.\u001b[39;49mCheck_int()\n",
      "File \u001b[1;32mc:\\Users\\thega\\Downloads\\Python Class Items\\Folder for Python - Week 2\\Mods.py:8\u001b[0m, in \u001b[0;36mCheck_int\u001b[1;34m()\u001b[0m\n\u001b[0;32m      6\u001b[0m \u001b[39mexcept\u001b[39;00m \u001b[39mValueError\u001b[39;00m:                            \u001b[39m# if a value error - not correct number type occurs\u001b[39;00m\n\u001b[0;32m      7\u001b[0m     \u001b[39mprint\u001b[39m(\u001b[39m\"\u001b[39m\u001b[39mThis is no int, it\u001b[39m\u001b[39m'\u001b[39m\u001b[39ms a con!\u001b[39m\u001b[39m\"\u001b[39m)      \u001b[39m# Otherwise we don't print this item\u001b[39;00m\n\u001b[1;32m----> 8\u001b[0m \u001b[39mreturn\u001b[39;00m(Num_in)\n",
      "\u001b[1;31mUnboundLocalError\u001b[0m: local variable 'Num_in' referenced before assignment"
     ]
    }
   ],
   "source": [
    "import Mods as MD  # import your mods python scrpit\n",
    "\n",
    "def main():        # Define a main function\n",
    "    MD.Check_int() # run the int check\n",
    "main()        "
   ]
  }
 ],
 "metadata": {
  "kernelspec": {
   "display_name": "Python 3",
   "language": "python",
   "name": "python3"
  },
  "language_info": {
   "codemirror_mode": {
    "name": "ipython",
    "version": 3
   },
   "file_extension": ".py",
   "mimetype": "text/x-python",
   "name": "python",
   "nbconvert_exporter": "python",
   "pygments_lexer": "ipython3",
   "version": "3.10.9 (tags/v3.10.9:1dd9be6, Dec  6 2022, 20:01:21) [MSC v.1934 64 bit (AMD64)]"
  },
  "orig_nbformat": 4,
  "vscode": {
   "interpreter": {
    "hash": "6faf6305611ba51e9b4bf668f55a2a052f161f77c3b5f478e6c87c58422f30ec"
   }
  }
 },
 "nbformat": 4,
 "nbformat_minor": 2
}
